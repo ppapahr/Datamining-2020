{
 "cells": [
  {
   "cell_type": "markdown",
   "metadata": {},
   "source": [
    "# Datamining\n",
    "## Assignment 2 - Exercise 2.1\n",
    "<br></br>\n",
    "<font size=\"4\">\n",
    "    This exercise will be split into 2 notebooks in order to save time on each re-run.\n",
    "    "
   ]
  },
  {
   "cell_type": "code",
   "execution_count": 1,
   "metadata": {},
   "outputs": [],
   "source": [
    "import pandas as pd"
   ]
  },
  {
   "cell_type": "markdown",
   "metadata": {},
   "source": [
    "Read .json files as a file stream and keep only useful info (toronto)"
   ]
  },
  {
   "cell_type": "code",
   "execution_count": 2,
   "metadata": {
    "tags": []
   },
   "outputs": [],
   "source": [
    "businesses = []\n",
    "with open('yelp_academic_dataset_business.json',encoding=\"utf8\") as f:\n",
    "    for line in f:\n",
    "        c = line.find(\"\\\"city\\\"\")\n",
    "        cEnd = line.find(\"\\\"state\\\"\")\n",
    "        c = line[c+2+len(\"\\\"city\\\"\"):cEnd-2].replace(\" \",\"\")\n",
    "        if(c == \"Toronto\"):\n",
    "            #line = line.split(\",\")\n",
    "            bizID = line.split(\"\\\"business_id\\\"\")[1].split(\",\")[0][2:-1]\n",
    "            bizReviewCount = line.split(\"\\\"review_count\\\"\")[1].split(\",\")[0][1:]\n",
    "            if(int(bizReviewCount) >= 15):\n",
    "                bizDataToKeep = [bizID,bizReviewCount]\n",
    "                businesses.append(bizDataToKeep)\n",
    "f.close()"
   ]
  },
  {
   "cell_type": "markdown",
   "metadata": {},
   "source": [
    "Create a dataframe for the businesses"
   ]
  },
  {
   "cell_type": "code",
   "execution_count": 3,
   "metadata": {},
   "outputs": [
    {
     "data": {
      "text/html": [
       "<div>\n",
       "<style scoped>\n",
       "    .dataframe tbody tr th:only-of-type {\n",
       "        vertical-align: middle;\n",
       "    }\n",
       "\n",
       "    .dataframe tbody tr th {\n",
       "        vertical-align: top;\n",
       "    }\n",
       "\n",
       "    .dataframe thead th {\n",
       "        text-align: right;\n",
       "    }\n",
       "</style>\n",
       "<table border=\"1\" class=\"dataframe\">\n",
       "  <thead>\n",
       "    <tr style=\"text-align: right;\">\n",
       "      <th></th>\n",
       "      <th>business_id</th>\n",
       "      <th>review_count</th>\n",
       "    </tr>\n",
       "  </thead>\n",
       "  <tbody>\n",
       "    <tr>\n",
       "      <th>0</th>\n",
       "      <td>EosRKXIGeSWFYWwpkbhNnA</td>\n",
       "      <td>16</td>\n",
       "    </tr>\n",
       "    <tr>\n",
       "      <th>1</th>\n",
       "      <td>0QjROMVW9ACKjhSEfHqNCQ</td>\n",
       "      <td>116</td>\n",
       "    </tr>\n",
       "    <tr>\n",
       "      <th>2</th>\n",
       "      <td>GtQPbazps0jt7_cJghfmsA</td>\n",
       "      <td>41</td>\n",
       "    </tr>\n",
       "    <tr>\n",
       "      <th>3</th>\n",
       "      <td>xSveVu4UWuyayq8HFlf9KA</td>\n",
       "      <td>21</td>\n",
       "    </tr>\n",
       "    <tr>\n",
       "      <th>4</th>\n",
       "      <td>NLaK58WvlNQdUunSIkt-jA</td>\n",
       "      <td>24</td>\n",
       "    </tr>\n",
       "    <tr>\n",
       "      <th>...</th>\n",
       "      <td>...</td>\n",
       "      <td>...</td>\n",
       "    </tr>\n",
       "    <tr>\n",
       "      <th>7597</th>\n",
       "      <td>yFQCdWr_k1pTObzHPGis9Q</td>\n",
       "      <td>177</td>\n",
       "    </tr>\n",
       "    <tr>\n",
       "      <th>7598</th>\n",
       "      <td>0hudPyuCBlKg79OwKBw-eQ</td>\n",
       "      <td>153</td>\n",
       "    </tr>\n",
       "    <tr>\n",
       "      <th>7599</th>\n",
       "      <td>GAgEoHcf4PSuZRS5Zd3ltA</td>\n",
       "      <td>16</td>\n",
       "    </tr>\n",
       "    <tr>\n",
       "      <th>7600</th>\n",
       "      <td>BtTCTHwoIfr3fBQjaOkpIw</td>\n",
       "      <td>22</td>\n",
       "    </tr>\n",
       "    <tr>\n",
       "      <th>7601</th>\n",
       "      <td>n2BKYb8aw4AhRKLkdUjQRg</td>\n",
       "      <td>21</td>\n",
       "    </tr>\n",
       "  </tbody>\n",
       "</table>\n",
       "<p>7602 rows × 2 columns</p>\n",
       "</div>"
      ],
      "text/plain": [
       "                 business_id review_count\n",
       "0     EosRKXIGeSWFYWwpkbhNnA           16\n",
       "1     0QjROMVW9ACKjhSEfHqNCQ          116\n",
       "2     GtQPbazps0jt7_cJghfmsA           41\n",
       "3     xSveVu4UWuyayq8HFlf9KA           21\n",
       "4     NLaK58WvlNQdUunSIkt-jA           24\n",
       "...                      ...          ...\n",
       "7597  yFQCdWr_k1pTObzHPGis9Q          177\n",
       "7598  0hudPyuCBlKg79OwKBw-eQ          153\n",
       "7599  GAgEoHcf4PSuZRS5Zd3ltA           16\n",
       "7600  BtTCTHwoIfr3fBQjaOkpIw           22\n",
       "7601  n2BKYb8aw4AhRKLkdUjQRg           21\n",
       "\n",
       "[7602 rows x 2 columns]"
      ]
     },
     "execution_count": 3,
     "metadata": {},
     "output_type": "execute_result"
    }
   ],
   "source": [
    "df = pd.DataFrame(businesses,columns=[\"business_id\",\"review_count\"])\n",
    "bizIDList = list(df.business_id)\n",
    "df\n",
    "torontoBiz = {}\n",
    "for i in bizIDList:\n",
    "    torontoBiz[i] = 1\n",
    "del bizIDList\n",
    "df"
   ]
  },
  {
   "cell_type": "markdown",
   "metadata": {},
   "source": [
    "Get only toronto reviews."
   ]
  },
  {
   "cell_type": "code",
   "execution_count": 4,
   "metadata": {
    "tags": []
   },
   "outputs": [],
   "source": [
    "userDict = {}\n",
    "userRatings = []\n",
    "with open('yelp_academic_dataset_review.json',encoding=\"utf8\") as f:\n",
    "    count = 0\n",
    "    lines = f.readlines(1)\n",
    "\n",
    "    while lines:\n",
    "        line = lines[0]\n",
    "        bizID = line.split(\"\\\"business_id\\\"\")[1].split(\",\")[0][2:-1]\n",
    "        if(torontoBiz.get(bizID) == 1):\n",
    "            userID = line.split(\"\\\"user_id\\\"\")[1].split(\",\")[0][2:-1]\n",
    "            rating = line.split(\"\\\"stars\\\"\")[1].split(\",\")[0][1:]\n",
    "            userbiz = ((userID,bizID),rating)\n",
    "            userRatings.append(userbiz)\n",
    "            #count times user has rated a toronto biz in order to remove those with <15 later.\n",
    "            if(userDict.get(userID) == None):\n",
    "                userDict[userID] = 1\n",
    "            else:\n",
    "                userDict[userID] = userDict.get(userID) + 1\n",
    "        lines = f.readlines(1)"
   ]
  },
  {
   "cell_type": "markdown",
   "metadata": {},
   "source": [
    "Keep only users with 15+ reviews."
   ]
  },
  {
   "cell_type": "code",
   "execution_count": 5,
   "metadata": {
    "tags": []
   },
   "outputs": [
    {
     "name": "stdout",
     "output_type": "stream",
     "text": [
      "5874\n"
     ]
    }
   ],
   "source": [
    "for i in userDict.copy():\n",
    "    if(userDict.get(i) < 15):\n",
    "        del userDict[i]\n",
    "print(len(userDict))"
   ]
  },
  {
   "cell_type": "code",
   "execution_count": 6,
   "metadata": {
    "tags": []
   },
   "outputs": [],
   "source": [
    "userRatingsO15 = []\n",
    "for i in range(len(userRatings)):\n",
    "    if(userDict.get(userRatings[i][0][0]) != None):\n",
    "        userRatingsO15.append(userRatings[i])\n",
    "del userRatings"
   ]
  },
  {
   "cell_type": "markdown",
   "metadata": {},
   "source": [
    "Remake reviews into a dictionary as dictionaries have only unique keys. We use this as it can easily help us keep only unique (user_id,biz_id) key thus keeping only one unique business review per user. "
   ]
  },
  {
   "cell_type": "code",
   "execution_count": 7,
   "metadata": {},
   "outputs": [
    {
     "data": {
      "text/plain": [
       "242227"
      ]
     },
     "execution_count": 7,
     "metadata": {},
     "output_type": "execute_result"
    }
   ],
   "source": [
    "review15Toronto = dict(userRatingsO15)\n",
    "len(review15Toronto)"
   ]
  },
  {
   "cell_type": "code",
   "execution_count": 8,
   "metadata": {},
   "outputs": [
    {
     "data": {
      "text/plain": [
       "'5.0'"
      ]
     },
     "execution_count": 8,
     "metadata": {},
     "output_type": "execute_result"
    }
   ],
   "source": [
    "review15Toronto.get(('fwJJjE2HYubWzJia4LbpPQ', '8XVAcOZ02IGTQE-pvKhXXw'))"
   ]
  },
  {
   "cell_type": "markdown",
   "metadata": {},
   "source": [
    "### In the end we have a dictionary storing as a key a user who reviews the business i.e: (user_id,biz_id), and a value of user_rating."
   ]
  }
 ],
 "metadata": {
  "kernelspec": {
   "display_name": "Python 3",
   "language": "python",
   "name": "python3"
  },
  "language_info": {
   "codemirror_mode": {
    "name": "ipython",
    "version": 3
   },
   "file_extension": ".py",
   "mimetype": "text/x-python",
   "name": "python",
   "nbconvert_exporter": "python",
   "pygments_lexer": "ipython3",
   "version": "3.8.3"
  }
 },
 "nbformat": 4,
 "nbformat_minor": 4
}
